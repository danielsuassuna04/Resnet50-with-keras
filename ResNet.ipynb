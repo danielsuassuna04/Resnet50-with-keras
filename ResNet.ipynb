{
  "nbformat": 4,
  "nbformat_minor": 0,
  "metadata": {
    "colab": {
      "provenance": [],
      "gpuType": "T4",
      "authorship_tag": "ABX9TyMWL3dYUYvpE4ByF2MBmWYl",
      "include_colab_link": true
    },
    "kernelspec": {
      "name": "python3",
      "display_name": "Python 3"
    },
    "language_info": {
      "name": "python"
    },
    "accelerator": "GPU"
  },
  "cells": [
    {
      "cell_type": "markdown",
      "metadata": {
        "id": "view-in-github",
        "colab_type": "text"
      },
      "source": [
        "<a href=\"https://colab.research.google.com/github/danielsuassuna04/Resnet50-with-keras/blob/main/ResNet.ipynb\" target=\"_parent\"><img src=\"https://colab.research.google.com/assets/colab-badge.svg\" alt=\"Open In Colab\"/></a>"
      ]
    },
    {
      "cell_type": "code",
      "execution_count": null,
      "metadata": {
        "id": "hlxpHWP9QO23"
      },
      "outputs": [],
      "source": [
        "import tensorflow as tf\n",
        "\n",
        "from tensorflow import keras"
      ]
    },
    {
      "cell_type": "code",
      "source": [
        "def data_augmentation():\n",
        "    data_augmentation = keras.models.Sequential()\n",
        "    data_augmentation.add(keras.layers.RandomFlip('horizontal'))\n",
        "    data_augmentation.add(keras.layers.RandomRotation(0.2))\n",
        "    data_augmentation.add(keras.layers.RandomZoom(0.2))\n",
        "    data_augmentation.add(keras.layers.RandomContrast(0.2))\n",
        "\n",
        "\n",
        "\n",
        "    return data_augmentation"
      ],
      "metadata": {
        "id": "uS90cSVC32N7"
      },
      "execution_count": null,
      "outputs": []
    },
    {
      "cell_type": "code",
      "source": [
        "def bloco_identidade(X, f, filters, initializer=keras.initializers.random_uniform):\n",
        "    F1, F2, F3 = filters\n",
        "\n",
        "    X_shortcut = X\n",
        "\n",
        "    X = keras.layers.Conv2D(filters=F1, kernel_size=1, strides=(1,1), padding='valid', kernel_initializer=initializer(seed=0))(X)\n",
        "    X = keras.layers.BatchNormalization(axis=3)(X)\n",
        "    X = keras.layers.Activation('relu')(X)\n",
        "\n",
        "    X = keras.layers.Conv2D(filters=F2, kernel_size=(f, f), strides=(1,1), padding='same', kernel_initializer=initializer(seed=0))(X)\n",
        "    X = keras.layers.BatchNormalization(axis=3)(X)\n",
        "    X = keras.layers.Activation('relu')(X)\n",
        "\n",
        "    X = keras.layers.Conv2D(filters=F3, kernel_size=(1, 1), strides=(1,1), padding='valid', kernel_initializer=initializer(seed=0))(X)\n",
        "    X = keras.layers.BatchNormalization(axis=3)(X)\n",
        "\n",
        "    X = keras.layers.Add()([X, X_shortcut])\n",
        "    X = keras.layers.Activation('relu')(X)\n",
        "\n",
        "    return X\n"
      ],
      "metadata": {
        "id": "aKB8lM7NQUwV"
      },
      "execution_count": null,
      "outputs": []
    },
    {
      "cell_type": "code",
      "source": [
        "def bloco_convolucional(X, f, filters, s=2, initializer=keras.initializers.glorot_uniform):\n",
        "    F1, F2, F3 = filters\n",
        "    X_shortcut = X\n",
        "\n",
        "    X = keras.layers.Conv2D(filters=F1, kernel_size=1, strides=(s, s), padding='valid', kernel_initializer=initializer(seed=0))(X)\n",
        "    X = keras.layers.BatchNormalization(axis=3)(X)\n",
        "    X = keras.layers.Activation('relu')(X)\n",
        "\n",
        "    X = keras.layers.Conv2D(filters=F2, kernel_size=(f, f), strides=(1, 1), padding='same', kernel_initializer=initializer(seed=0))(X)\n",
        "    X = keras.layers.BatchNormalization(axis=3)(X)\n",
        "    X = keras.layers.Activation('relu')(X)\n",
        "\n",
        "    X = keras.layers.Conv2D(filters=F3, kernel_size=(1, 1), strides=(1, 1), padding='valid', kernel_initializer=initializer(seed=0))(X)\n",
        "    X = keras.layers.BatchNormalization(axis=3)(X)\n",
        "\n",
        "    X_shortcut = keras.layers.Conv2D(F3, (1, 1), strides=(s, s), kernel_initializer=initializer(seed=0))(X_shortcut)\n",
        "    X_shortcut = keras.layers.BatchNormalization(axis=3)(X_shortcut)\n",
        "\n",
        "    X = keras.layers.Add()([X, X_shortcut])\n",
        "    X = keras.layers.Activation('relu')(X)\n",
        "\n",
        "    return X\n"
      ],
      "metadata": {
        "id": "9IcbvhZ3Q9CY"
      },
      "execution_count": null,
      "outputs": []
    },
    {
      "cell_type": "code",
      "source": [
        "def ResNet50(input_shape=(64, 64, 3), classes=6, training=False):\n",
        "    X_input = keras.layers.Input(input_shape)\n",
        "    X_input = data_augmentation()(X_input)\n",
        "    X = keras.layers.ZeroPadding2D((3, 3))(X_input)\n",
        "\n",
        "    X = keras.layers.Conv2D(64, (7, 7), strides=(2, 2), kernel_initializer=keras.initializers.glorot_uniform(seed=0))(X)\n",
        "    X = keras.layers.BatchNormalization(axis=3)(X)\n",
        "    X = keras.layers.Activation('relu')(X)\n",
        "    X = keras.layers.MaxPooling2D((3, 3), strides=(2, 2))(X)\n",
        "\n",
        "    X = bloco_convolucional(X, f=3, filters=[64, 64, 256], s=1)\n",
        "    X = bloco_identidade(X, 3, [64, 64, 256])\n",
        "    X = bloco_identidade(X, 3, [64, 64, 256])\n",
        "\n",
        "    X = bloco_convolucional(X, f=3, filters=[128, 128, 512], s=2)\n",
        "    X = bloco_identidade(X, f=3, filters=[128, 128, 512])\n",
        "    X = bloco_identidade(X, f=3, filters=[128, 128, 512])\n",
        "    X = bloco_identidade(X, f=3, filters=[128, 128, 512])\n",
        "\n",
        "    X = bloco_convolucional(X, f=3, filters=[256, 256, 1024], s=2)\n",
        "    X = bloco_identidade(X, f=3, filters=[256, 256, 1024])\n",
        "    X = bloco_identidade(X, f=3, filters=[256, 256, 1024])\n",
        "    X = bloco_identidade(X, f=3, filters=[256, 256, 1024])\n",
        "    X = bloco_identidade(X, f=3, filters=[256, 256, 1024])\n",
        "    X = bloco_identidade(X, f=3, filters=[256, 256, 1024])\n",
        "\n",
        "    X = bloco_convolucional(X, f=3, filters=[512, 512, 2048], s=2)\n",
        "    X = bloco_identidade(X, f=3, filters=[512, 512, 2048])\n",
        "    X = bloco_identidade(X, f=3, filters=[512, 512, 2048])\n",
        "\n",
        "    X = keras.layers.AveragePooling2D((2, 2))(X)\n",
        "\n",
        "    X = keras.layers.Flatten()(X)\n",
        "    X = keras.layers.Dropout(0.5)(X)\n",
        "    X = keras.layers.Dense(classes, activation='softmax', kernel_initializer=keras.initializers.glorot_uniform(seed=0))(X)\n",
        "\n",
        "    model = keras.Model(inputs=X_input, outputs=X)\n",
        "\n",
        "    return model\n"
      ],
      "metadata": {
        "id": "5SPmKcuWRIuM"
      },
      "execution_count": null,
      "outputs": []
    },
    {
      "cell_type": "code",
      "source": [
        "from tensorflow.keras.applications.resnet import preprocess_input\n",
        "\n",
        "\n",
        "(train_images, train_labels), (test_images, test_labels) = tf.keras.datasets.cifar10.load_data()\n",
        "\n",
        "batch_size = 64\n",
        "\n",
        "def preprocess(image, label):\n",
        "    image = tf.cast(image, tf.float32)\n",
        "    image = tf.image.resize(image, (64, 64))\n",
        "    return image, label\n",
        "X_train = train_images.astype('float32') / 255.0\n",
        "X_test = test_images.astype('float32') / 255.0\n",
        "\n",
        "train_dataset = tf.data.Dataset.from_tensor_slices((train_images, train_labels))\n",
        "test_dataset = tf.data.Dataset.from_tensor_slices((test_images, test_labels))\n",
        "\n",
        "train_dataset = (train_dataset\n",
        "                 .map(lambda x, y: preprocess(x, y))\n",
        "                 .shuffle(buffer_size=10000)\n",
        "                 .batch(batch_size)\n",
        "                 .prefetch(1))\n",
        "test_dataset = (test_dataset\n",
        "                .map(lambda x, y: preprocess(x, y))\n",
        "                .batch(batch_size)\n",
        "                .prefetch(1))"
      ],
      "metadata": {
        "id": "T2z05H1aRkBp"
      },
      "execution_count": null,
      "outputs": []
    },
    {
      "cell_type": "code",
      "source": [
        "model = ResNet50(input_shape=(64, 64, 3), classes=10)"
      ],
      "metadata": {
        "id": "DL3dTz3QUJ__"
      },
      "execution_count": null,
      "outputs": []
    },
    {
      "cell_type": "code",
      "source": [
        "model.compile(optimizer=keras.optimizers.Adam(learning_rate=0.01,weight_decay=0.01), loss='sparse_categorical_crossentropy', metrics=['accuracy'])"
      ],
      "metadata": {
        "id": "Vv1LHZKGUeIY"
      },
      "execution_count": null,
      "outputs": []
    },
    {
      "cell_type": "code",
      "source": [
        "checkpoint = keras.callbacks.ModelCheckpoint(\n",
        "    filepath='best_model.weights.h5',\n",
        "    monitor='val_loss',\n",
        "    save_best_only=True,\n",
        "    mode='min',\n",
        "    save_weights_only=True,\n",
        "    verbose=1\n",
        ")"
      ],
      "metadata": {
        "id": "fQYR2FoJUuz3"
      },
      "execution_count": null,
      "outputs": []
    },
    {
      "cell_type": "code",
      "source": [
        "model.fit(train_dataset, epochs=30, validation_data=test_dataset,callbacks=[checkpoint])"
      ],
      "metadata": {
        "colab": {
          "base_uri": "https://localhost:8080/"
        },
        "id": "oWIUJwPDUrJS",
        "outputId": "4ba9e7c3-c8f6-4084-9183-0a49a128bee3"
      },
      "execution_count": null,
      "outputs": [
        {
          "output_type": "stream",
          "name": "stdout",
          "text": [
            "Epoch 1/30\n",
            "\u001b[1m782/782\u001b[0m \u001b[32m━━━━━━━━━━━━━━━━━━━━\u001b[0m\u001b[37m\u001b[0m \u001b[1m0s\u001b[0m 104ms/step - accuracy: 0.6863 - loss: 0.9087\n",
            "Epoch 1: val_loss improved from inf to 1.36041, saving model to best_model.weights.h5\n",
            "\u001b[1m782/782\u001b[0m \u001b[32m━━━━━━━━━━━━━━━━━━━━\u001b[0m\u001b[37m\u001b[0m \u001b[1m161s\u001b[0m 122ms/step - accuracy: 0.6864 - loss: 0.9087 - val_accuracy: 0.5605 - val_loss: 1.3604\n",
            "Epoch 2/30\n",
            "\u001b[1m782/782\u001b[0m \u001b[32m━━━━━━━━━━━━━━━━━━━━\u001b[0m\u001b[37m\u001b[0m \u001b[1m0s\u001b[0m 73ms/step - accuracy: 0.7157 - loss: 0.8226\n",
            "Epoch 2: val_loss improved from 1.36041 to 1.04611, saving model to best_model.weights.h5\n",
            "\u001b[1m782/782\u001b[0m \u001b[32m━━━━━━━━━━━━━━━━━━━━\u001b[0m\u001b[37m\u001b[0m \u001b[1m84s\u001b[0m 85ms/step - accuracy: 0.7157 - loss: 0.8226 - val_accuracy: 0.6362 - val_loss: 1.0461\n",
            "Epoch 3/30\n",
            "\u001b[1m781/782\u001b[0m \u001b[32m━━━━━━━━━━━━━━━━━━━\u001b[0m\u001b[37m━\u001b[0m \u001b[1m0s\u001b[0m 73ms/step - accuracy: 0.7316 - loss: 0.7755\n",
            "Epoch 3: val_loss improved from 1.04611 to 0.91440, saving model to best_model.weights.h5\n",
            "\u001b[1m782/782\u001b[0m \u001b[32m━━━━━━━━━━━━━━━━━━━━\u001b[0m\u001b[37m\u001b[0m \u001b[1m67s\u001b[0m 85ms/step - accuracy: 0.7316 - loss: 0.7754 - val_accuracy: 0.6943 - val_loss: 0.9144\n",
            "Epoch 4/30\n",
            "\u001b[1m781/782\u001b[0m \u001b[32m━━━━━━━━━━━━━━━━━━━\u001b[0m\u001b[37m━\u001b[0m \u001b[1m0s\u001b[0m 74ms/step - accuracy: 0.7584 - loss: 0.7141\n",
            "Epoch 4: val_loss did not improve from 0.91440\n",
            "\u001b[1m782/782\u001b[0m \u001b[32m━━━━━━━━━━━━━━━━━━━━\u001b[0m\u001b[37m\u001b[0m \u001b[1m61s\u001b[0m 78ms/step - accuracy: 0.7584 - loss: 0.7141 - val_accuracy: 0.6385 - val_loss: 1.0578\n",
            "Epoch 5/30\n",
            "\u001b[1m781/782\u001b[0m \u001b[32m━━━━━━━━━━━━━━━━━━━\u001b[0m\u001b[37m━\u001b[0m \u001b[1m0s\u001b[0m 74ms/step - accuracy: 0.7728 - loss: 0.6633\n",
            "Epoch 5: val_loss did not improve from 0.91440\n",
            "\u001b[1m782/782\u001b[0m \u001b[32m━━━━━━━━━━━━━━━━━━━━\u001b[0m\u001b[37m\u001b[0m \u001b[1m64s\u001b[0m 81ms/step - accuracy: 0.7728 - loss: 0.6633 - val_accuracy: 0.3864 - val_loss: 2.0869\n",
            "Epoch 6/30\n",
            "\u001b[1m781/782\u001b[0m \u001b[32m━━━━━━━━━━━━━━━━━━━\u001b[0m\u001b[37m━\u001b[0m \u001b[1m0s\u001b[0m 74ms/step - accuracy: 0.7956 - loss: 0.6048\n",
            "Epoch 6: val_loss did not improve from 0.91440\n",
            "\u001b[1m782/782\u001b[0m \u001b[32m━━━━━━━━━━━━━━━━━━━━\u001b[0m\u001b[37m\u001b[0m \u001b[1m79s\u001b[0m 77ms/step - accuracy: 0.7956 - loss: 0.6048 - val_accuracy: 0.6834 - val_loss: 1.0213\n",
            "Epoch 7/30\n",
            "\u001b[1m781/782\u001b[0m \u001b[32m━━━━━━━━━━━━━━━━━━━\u001b[0m\u001b[37m━\u001b[0m \u001b[1m0s\u001b[0m 75ms/step - accuracy: 0.8053 - loss: 0.5684\n",
            "Epoch 7: val_loss did not improve from 0.91440\n",
            "\u001b[1m782/782\u001b[0m \u001b[32m━━━━━━━━━━━━━━━━━━━━\u001b[0m\u001b[37m\u001b[0m \u001b[1m82s\u001b[0m 78ms/step - accuracy: 0.8053 - loss: 0.5685 - val_accuracy: 0.5610 - val_loss: 1.3976\n",
            "Epoch 8/30\n",
            "\u001b[1m781/782\u001b[0m \u001b[32m━━━━━━━━━━━━━━━━━━━\u001b[0m\u001b[37m━\u001b[0m \u001b[1m0s\u001b[0m 74ms/step - accuracy: 0.8075 - loss: 0.5595\n",
            "Epoch 8: val_loss did not improve from 0.91440\n",
            "\u001b[1m782/782\u001b[0m \u001b[32m━━━━━━━━━━━━━━━━━━━━\u001b[0m\u001b[37m\u001b[0m \u001b[1m64s\u001b[0m 81ms/step - accuracy: 0.8075 - loss: 0.5595 - val_accuracy: 0.6901 - val_loss: 1.0259\n",
            "Epoch 9/30\n",
            "\u001b[1m781/782\u001b[0m \u001b[32m━━━━━━━━━━━━━━━━━━━\u001b[0m\u001b[37m━\u001b[0m \u001b[1m0s\u001b[0m 74ms/step - accuracy: 0.8366 - loss: 0.4737\n",
            "Epoch 9: val_loss did not improve from 0.91440\n",
            "\u001b[1m782/782\u001b[0m \u001b[32m━━━━━━━━━━━━━━━━━━━━\u001b[0m\u001b[37m\u001b[0m \u001b[1m80s\u001b[0m 78ms/step - accuracy: 0.8366 - loss: 0.4738 - val_accuracy: 0.6509 - val_loss: 1.1119\n",
            "Epoch 10/30\n",
            "\u001b[1m781/782\u001b[0m \u001b[32m━━━━━━━━━━━━━━━━━━━\u001b[0m\u001b[37m━\u001b[0m \u001b[1m0s\u001b[0m 73ms/step - accuracy: 0.8427 - loss: 0.4664\n",
            "Epoch 10: val_loss did not improve from 0.91440\n",
            "\u001b[1m782/782\u001b[0m \u001b[32m━━━━━━━━━━━━━━━━━━━━\u001b[0m\u001b[37m\u001b[0m \u001b[1m63s\u001b[0m 79ms/step - accuracy: 0.8427 - loss: 0.4664 - val_accuracy: 0.6960 - val_loss: 1.0043\n",
            "Epoch 11/30\n",
            "\u001b[1m781/782\u001b[0m \u001b[32m━━━━━━━━━━━━━━━━━━━\u001b[0m\u001b[37m━\u001b[0m \u001b[1m0s\u001b[0m 73ms/step - accuracy: 0.8544 - loss: 0.4292\n",
            "Epoch 11: val_loss did not improve from 0.91440\n",
            "\u001b[1m782/782\u001b[0m \u001b[32m━━━━━━━━━━━━━━━━━━━━\u001b[0m\u001b[37m\u001b[0m \u001b[1m61s\u001b[0m 77ms/step - accuracy: 0.8544 - loss: 0.4292 - val_accuracy: 0.7284 - val_loss: 0.9333\n",
            "Epoch 12/30\n",
            "\u001b[1m781/782\u001b[0m \u001b[32m━━━━━━━━━━━━━━━━━━━\u001b[0m\u001b[37m━\u001b[0m \u001b[1m0s\u001b[0m 74ms/step - accuracy: 0.8617 - loss: 0.4145\n",
            "Epoch 12: val_loss did not improve from 0.91440\n",
            "\u001b[1m782/782\u001b[0m \u001b[32m━━━━━━━━━━━━━━━━━━━━\u001b[0m\u001b[37m\u001b[0m \u001b[1m85s\u001b[0m 81ms/step - accuracy: 0.8617 - loss: 0.4145 - val_accuracy: 0.6828 - val_loss: 1.0831\n",
            "Epoch 13/30\n",
            "\u001b[1m782/782\u001b[0m \u001b[32m━━━━━━━━━━━━━━━━━━━━\u001b[0m\u001b[37m\u001b[0m \u001b[1m0s\u001b[0m 73ms/step - accuracy: 0.8574 - loss: 0.4291\n",
            "Epoch 13: val_loss did not improve from 0.91440\n",
            "\u001b[1m782/782\u001b[0m \u001b[32m━━━━━━━━━━━━━━━━━━━━\u001b[0m\u001b[37m\u001b[0m \u001b[1m82s\u001b[0m 80ms/step - accuracy: 0.8574 - loss: 0.4290 - val_accuracy: 0.6001 - val_loss: 1.7164\n",
            "Epoch 14/30\n",
            "\u001b[1m781/782\u001b[0m \u001b[32m━━━━━━━━━━━━━━━━━━━\u001b[0m\u001b[37m━\u001b[0m \u001b[1m0s\u001b[0m 73ms/step - accuracy: 0.8814 - loss: 0.3521\n",
            "Epoch 14: val_loss did not improve from 0.91440\n",
            "\u001b[1m782/782\u001b[0m \u001b[32m━━━━━━━━━━━━━━━━━━━━\u001b[0m\u001b[37m\u001b[0m \u001b[1m61s\u001b[0m 77ms/step - accuracy: 0.8814 - loss: 0.3521 - val_accuracy: 0.6246 - val_loss: 1.4195\n",
            "Epoch 15/30\n",
            "\u001b[1m781/782\u001b[0m \u001b[32m━━━━━━━━━━━━━━━━━━━\u001b[0m\u001b[37m━\u001b[0m \u001b[1m0s\u001b[0m 73ms/step - accuracy: 0.8809 - loss: 0.3455\n",
            "Epoch 15: val_loss did not improve from 0.91440\n",
            "\u001b[1m782/782\u001b[0m \u001b[32m━━━━━━━━━━━━━━━━━━━━\u001b[0m\u001b[37m\u001b[0m \u001b[1m60s\u001b[0m 76ms/step - accuracy: 0.8809 - loss: 0.3455 - val_accuracy: 0.6430 - val_loss: 1.5122\n",
            "Epoch 16/30\n",
            "\u001b[1m781/782\u001b[0m \u001b[32m━━━━━━━━━━━━━━━━━━━\u001b[0m\u001b[37m━\u001b[0m \u001b[1m0s\u001b[0m 73ms/step - accuracy: 0.8866 - loss: 0.3393\n",
            "Epoch 16: val_loss improved from 0.91440 to 0.87799, saving model to best_model.weights.h5\n",
            "\u001b[1m782/782\u001b[0m \u001b[32m━━━━━━━━━━━━━━━━━━━━\u001b[0m\u001b[37m\u001b[0m \u001b[1m70s\u001b[0m 89ms/step - accuracy: 0.8866 - loss: 0.3393 - val_accuracy: 0.7420 - val_loss: 0.8780\n",
            "Epoch 17/30\n",
            "\u001b[1m781/782\u001b[0m \u001b[32m━━━━━━━━━━━━━━━━━━━\u001b[0m\u001b[37m━\u001b[0m \u001b[1m0s\u001b[0m 73ms/step - accuracy: 0.8926 - loss: 0.3189\n",
            "Epoch 17: val_loss did not improve from 0.87799\n",
            "\u001b[1m782/782\u001b[0m \u001b[32m━━━━━━━━━━━━━━━━━━━━\u001b[0m\u001b[37m\u001b[0m \u001b[1m72s\u001b[0m 77ms/step - accuracy: 0.8926 - loss: 0.3189 - val_accuracy: 0.6887 - val_loss: 1.1963\n",
            "Epoch 18/30\n",
            "\u001b[1m781/782\u001b[0m \u001b[32m━━━━━━━━━━━━━━━━━━━\u001b[0m\u001b[37m━\u001b[0m \u001b[1m0s\u001b[0m 72ms/step - accuracy: 0.8932 - loss: 0.3109\n",
            "Epoch 18: val_loss did not improve from 0.87799\n",
            "\u001b[1m782/782\u001b[0m \u001b[32m━━━━━━━━━━━━━━━━━━━━\u001b[0m\u001b[37m\u001b[0m \u001b[1m81s\u001b[0m 75ms/step - accuracy: 0.8932 - loss: 0.3109 - val_accuracy: 0.6703 - val_loss: 1.3225\n",
            "Epoch 19/30\n",
            "\u001b[1m781/782\u001b[0m \u001b[32m━━━━━━━━━━━━━━━━━━━\u001b[0m\u001b[37m━\u001b[0m \u001b[1m0s\u001b[0m 72ms/step - accuracy: 0.8952 - loss: 0.3048\n",
            "Epoch 19: val_loss did not improve from 0.87799\n",
            "\u001b[1m782/782\u001b[0m \u001b[32m━━━━━━━━━━━━━━━━━━━━\u001b[0m\u001b[37m\u001b[0m \u001b[1m82s\u001b[0m 75ms/step - accuracy: 0.8952 - loss: 0.3048 - val_accuracy: 0.6428 - val_loss: 1.4214\n",
            "Epoch 20/30\n",
            "\u001b[1m781/782\u001b[0m \u001b[32m━━━━━━━━━━━━━━━━━━━\u001b[0m\u001b[37m━\u001b[0m \u001b[1m0s\u001b[0m 73ms/step - accuracy: 0.9007 - loss: 0.2955\n",
            "Epoch 20: val_loss did not improve from 0.87799\n",
            "\u001b[1m782/782\u001b[0m \u001b[32m━━━━━━━━━━━━━━━━━━━━\u001b[0m\u001b[37m\u001b[0m \u001b[1m60s\u001b[0m 76ms/step - accuracy: 0.9007 - loss: 0.2955 - val_accuracy: 0.7295 - val_loss: 1.0206\n",
            "Epoch 21/30\n",
            "\u001b[1m781/782\u001b[0m \u001b[32m━━━━━━━━━━━━━━━━━━━\u001b[0m\u001b[37m━\u001b[0m \u001b[1m0s\u001b[0m 72ms/step - accuracy: 0.9033 - loss: 0.2933\n",
            "Epoch 21: val_loss did not improve from 0.87799\n",
            "\u001b[1m782/782\u001b[0m \u001b[32m━━━━━━━━━━━━━━━━━━━━\u001b[0m\u001b[37m\u001b[0m \u001b[1m82s\u001b[0m 75ms/step - accuracy: 0.9033 - loss: 0.2933 - val_accuracy: 0.6660 - val_loss: 1.4255\n",
            "Epoch 22/30\n",
            "\u001b[1m781/782\u001b[0m \u001b[32m━━━━━━━━━━━━━━━━━━━\u001b[0m\u001b[37m━\u001b[0m \u001b[1m0s\u001b[0m 73ms/step - accuracy: 0.9085 - loss: 0.2725\n",
            "Epoch 22: val_loss did not improve from 0.87799\n",
            "\u001b[1m782/782\u001b[0m \u001b[32m━━━━━━━━━━━━━━━━━━━━\u001b[0m\u001b[37m\u001b[0m \u001b[1m60s\u001b[0m 76ms/step - accuracy: 0.9085 - loss: 0.2725 - val_accuracy: 0.7195 - val_loss: 0.9608\n",
            "Epoch 23/30\n",
            "\u001b[1m781/782\u001b[0m \u001b[32m━━━━━━━━━━━━━━━━━━━\u001b[0m\u001b[37m━\u001b[0m \u001b[1m0s\u001b[0m 72ms/step - accuracy: 0.9004 - loss: 0.2976\n",
            "Epoch 23: val_loss did not improve from 0.87799\n",
            "\u001b[1m782/782\u001b[0m \u001b[32m━━━━━━━━━━━━━━━━━━━━\u001b[0m\u001b[37m\u001b[0m \u001b[1m81s\u001b[0m 76ms/step - accuracy: 0.9004 - loss: 0.2976 - val_accuracy: 0.6913 - val_loss: 1.1821\n",
            "Epoch 24/30\n",
            "\u001b[1m781/782\u001b[0m \u001b[32m━━━━━━━━━━━━━━━━━━━\u001b[0m\u001b[37m━\u001b[0m \u001b[1m0s\u001b[0m 73ms/step - accuracy: 0.9106 - loss: 0.2644\n",
            "Epoch 24: val_loss did not improve from 0.87799\n",
            "\u001b[1m782/782\u001b[0m \u001b[32m━━━━━━━━━━━━━━━━━━━━\u001b[0m\u001b[37m\u001b[0m \u001b[1m82s\u001b[0m 76ms/step - accuracy: 0.9106 - loss: 0.2644 - val_accuracy: 0.5124 - val_loss: 1.7163\n",
            "Epoch 25/30\n",
            "\u001b[1m781/782\u001b[0m \u001b[32m━━━━━━━━━━━━━━━━━━━\u001b[0m\u001b[37m━\u001b[0m \u001b[1m0s\u001b[0m 73ms/step - accuracy: 0.9136 - loss: 0.2620\n",
            "Epoch 25: val_loss did not improve from 0.87799\n",
            "\u001b[1m782/782\u001b[0m \u001b[32m━━━━━━━━━━━━━━━━━━━━\u001b[0m\u001b[37m\u001b[0m \u001b[1m60s\u001b[0m 76ms/step - accuracy: 0.9136 - loss: 0.2620 - val_accuracy: 0.6624 - val_loss: 1.4020\n",
            "Epoch 26/30\n",
            "\u001b[1m781/782\u001b[0m \u001b[32m━━━━━━━━━━━━━━━━━━━\u001b[0m\u001b[37m━\u001b[0m \u001b[1m0s\u001b[0m 72ms/step - accuracy: 0.9141 - loss: 0.2544\n",
            "Epoch 26: val_loss did not improve from 0.87799\n",
            "\u001b[1m782/782\u001b[0m \u001b[32m━━━━━━━━━━━━━━━━━━━━\u001b[0m\u001b[37m\u001b[0m \u001b[1m84s\u001b[0m 78ms/step - accuracy: 0.9140 - loss: 0.2544 - val_accuracy: 0.5680 - val_loss: 2.7263\n",
            "Epoch 27/30\n",
            "\u001b[1m781/782\u001b[0m \u001b[32m━━━━━━━━━━━━━━━━━━━\u001b[0m\u001b[37m━\u001b[0m \u001b[1m0s\u001b[0m 72ms/step - accuracy: 0.9050 - loss: 0.2851\n",
            "Epoch 27: val_loss did not improve from 0.87799\n",
            "\u001b[1m782/782\u001b[0m \u001b[32m━━━━━━━━━━━━━━━━━━━━\u001b[0m\u001b[37m\u001b[0m \u001b[1m79s\u001b[0m 75ms/step - accuracy: 0.9049 - loss: 0.2852 - val_accuracy: 0.6666 - val_loss: 1.3126\n",
            "Epoch 28/30\n",
            "\u001b[1m781/782\u001b[0m \u001b[32m━━━━━━━━━━━━━━━━━━━\u001b[0m\u001b[37m━\u001b[0m \u001b[1m0s\u001b[0m 72ms/step - accuracy: 0.9139 - loss: 0.2603\n",
            "Epoch 28: val_loss did not improve from 0.87799\n",
            "\u001b[1m782/782\u001b[0m \u001b[32m━━━━━━━━━━━━━━━━━━━━\u001b[0m\u001b[37m\u001b[0m \u001b[1m83s\u001b[0m 76ms/step - accuracy: 0.9139 - loss: 0.2603 - val_accuracy: 0.6182 - val_loss: 1.6856\n",
            "Epoch 29/30\n",
            "\u001b[1m781/782\u001b[0m \u001b[32m━━━━━━━━━━━━━━━━━━━\u001b[0m\u001b[37m━\u001b[0m \u001b[1m0s\u001b[0m 72ms/step - accuracy: 0.9185 - loss: 0.2444\n",
            "Epoch 29: val_loss did not improve from 0.87799\n",
            "\u001b[1m782/782\u001b[0m \u001b[32m━━━━━━━━━━━━━━━━━━━━\u001b[0m\u001b[37m\u001b[0m \u001b[1m82s\u001b[0m 75ms/step - accuracy: 0.9185 - loss: 0.2444 - val_accuracy: 0.6817 - val_loss: 1.1813\n",
            "Epoch 30/30\n",
            "\u001b[1m781/782\u001b[0m \u001b[32m━━━━━━━━━━━━━━━━━━━\u001b[0m\u001b[37m━\u001b[0m \u001b[1m0s\u001b[0m 72ms/step - accuracy: 0.9105 - loss: 0.2691\n",
            "Epoch 30: val_loss did not improve from 0.87799\n",
            "\u001b[1m782/782\u001b[0m \u001b[32m━━━━━━━━━━━━━━━━━━━━\u001b[0m\u001b[37m\u001b[0m \u001b[1m82s\u001b[0m 75ms/step - accuracy: 0.9105 - loss: 0.2691 - val_accuracy: 0.6926 - val_loss: 1.1602\n"
          ]
        },
        {
          "output_type": "execute_result",
          "data": {
            "text/plain": [
              "<keras.src.callbacks.history.History at 0x785911123fd0>"
            ]
          },
          "metadata": {},
          "execution_count": 31
        }
      ]
    },
    {
      "cell_type": "code",
      "source": [
        "!git config user.email \"danielsuassuna05@gmail.com\"\n",
        "!git config user.name \"danielsuasuna"
      ],
      "metadata": {
        "colab": {
          "base_uri": "https://localhost:8080/"
        },
        "id": "aMvKqMPcWu18",
        "outputId": "c9a33db6-5345-475d-ff2b-70d96babfa97"
      },
      "execution_count": null,
      "outputs": [
        {
          "output_type": "stream",
          "name": "stdout",
          "text": [
            "/bin/bash: -c: line 1: unexpected EOF while looking for matching `\"'\n",
            "/bin/bash: -c: line 2: syntax error: unexpected end of file\n"
          ]
        }
      ]
    },
    {
      "cell_type": "code",
      "source": [
        "!git add ResNet.ipynb\n",
        "!git commit -m \"ResNet\"\n",
        "!git push"
      ],
      "metadata": {
        "colab": {
          "base_uri": "https://localhost:8080/"
        },
        "id": "uI8aKa9PU8Br",
        "outputId": "ceeeda6a-e013-4c50-b9ff-d9fbf21720cb"
      },
      "execution_count": null,
      "outputs": [
        {
          "output_type": "stream",
          "name": "stdout",
          "text": [
            "[main (root-commit) ebefacd] ResNet\n",
            " 1 file changed, 434 insertions(+)\n",
            " create mode 100644 ResNet.ipynb\n",
            "fatal: could not read Username for 'https://github.com': No such device or address\n"
          ]
        }
      ]
    },
    {
      "cell_type": "code",
      "source": [
        "!dir"
      ],
      "metadata": {
        "id": "usTR-EKK3dn0",
        "colab": {
          "base_uri": "https://localhost:8080/"
        },
        "outputId": "d3fc231b-7d3b-4a54-aec6-307008ebb4df"
      },
      "execution_count": null,
      "outputs": [
        {
          "output_type": "stream",
          "name": "stdout",
          "text": [
            "ResNet.ipynb\n"
          ]
        }
      ]
    },
    {
      "cell_type": "code",
      "source": [],
      "metadata": {
        "id": "-NODrei5W_DP"
      },
      "execution_count": null,
      "outputs": []
    }
  ]
}